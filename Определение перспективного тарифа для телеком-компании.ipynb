{
 "cells": [
  {
   "cell_type": "markdown",
   "metadata": {},
   "source": [
    "Обзор Данных\n"
   ]
  },
  {
   "cell_type": "markdown",
   "metadata": {},
   "source": [
    "Для начала импортируем нужные нам библиотеки\n"
   ]
  },
  {
   "cell_type": "code",
   "execution_count": 121,
   "metadata": {},
   "outputs": [],
   "source": [
    "import pandas as pd\n",
    "from scipy import stats as st\n",
    "import numpy as np\n",
    "import matplotlib.pyplot as plt"
   ]
  },
  {
   "cell_type": "markdown",
   "metadata": {},
   "source": [
    "Прочитаем все данные и внесём их в переменные"
   ]
  },
  {
   "cell_type": "code",
   "execution_count": 122,
   "metadata": {},
   "outputs": [],
   "source": [
    "data_calls = pd.read_csv(\"datasets/calls.csv\")\n",
    "data_internet = pd.read_csv(\"datasets/internet.csv\")\n",
    "data_messages = pd.read_csv(\"datasets/messages.csv\")\n",
    "data_tariffs = pd.read_csv(\"datasets/tariffs.csv\")\n",
    "data_users = pd.read_csv(\"datasets/users.csv\")"
   ]
  },
  {
   "cell_type": "markdown",
   "metadata": {},
   "source": [
    "Посмотрим на данные во всех таблицах ( посмотрим по 10 строк)\n"
   ]
  },
  {
   "cell_type": "code",
   "execution_count": 123,
   "metadata": {},
   "outputs": [
    {
     "name": "stdout",
     "output_type": "stream",
     "text": [
      "       id   call_date  duration  user_id\n",
      "0  1000_0  2018-07-25      0.00     1000\n",
      "1  1000_1  2018-08-17      0.00     1000\n",
      "2  1000_2  2018-06-11      2.85     1000\n",
      "3  1000_3  2018-09-21     13.80     1000\n",
      "4  1000_4  2018-12-15      5.18     1000\n",
      "5  1000_5  2018-11-02      0.00     1000\n",
      "6  1000_6  2018-10-18      0.00     1000\n",
      "7  1000_7  2018-08-22     18.31     1000\n",
      "8  1000_8  2018-09-15     18.44     1000\n",
      "9  1000_9  2018-08-15      0.00     1000\n"
     ]
    }
   ],
   "source": [
    "print(data_calls.head(10))"
   ]
  },
  {
   "cell_type": "code",
   "execution_count": 124,
   "metadata": {},
   "outputs": [
    {
     "name": "stdout",
     "output_type": "stream",
     "text": [
      "   Unnamed: 0      id  mb_used session_date  user_id\n",
      "0           0  1000_0   112.95   2018-11-25     1000\n",
      "1           1  1000_1  1052.81   2018-09-07     1000\n",
      "2           2  1000_2  1197.26   2018-06-25     1000\n",
      "3           3  1000_3   550.27   2018-08-22     1000\n",
      "4           4  1000_4   302.56   2018-09-24     1000\n",
      "5           5  1000_5   399.97   2018-10-02     1000\n",
      "6           6  1000_6   540.08   2018-09-07     1000\n",
      "7           7  1000_7   415.70   2018-07-11     1000\n",
      "8           8  1000_8   505.40   2018-10-08     1000\n",
      "9           9  1000_9   345.54   2018-09-03     1000\n"
     ]
    }
   ],
   "source": [
    "print(data_internet.head(10))"
   ]
  },
  {
   "cell_type": "code",
   "execution_count": 125,
   "metadata": {},
   "outputs": [
    {
     "name": "stdout",
     "output_type": "stream",
     "text": [
      "       id message_date  user_id\n",
      "0  1000_0   2018-06-27     1000\n",
      "1  1000_1   2018-10-08     1000\n",
      "2  1000_2   2018-08-04     1000\n",
      "3  1000_3   2018-06-16     1000\n",
      "4  1000_4   2018-12-05     1000\n",
      "5  1000_5   2018-06-20     1000\n",
      "6  1000_6   2018-11-19     1000\n",
      "7  1000_7   2018-10-29     1000\n",
      "8  1000_8   2018-06-25     1000\n",
      "9  1000_9   2018-12-18     1000\n"
     ]
    }
   ],
   "source": [
    "print(data_messages.head(10))"
   ]
  },
  {
   "cell_type": "code",
   "execution_count": 126,
   "metadata": {},
   "outputs": [
    {
     "name": "stdout",
     "output_type": "stream",
     "text": [
      "   messages_included  mb_per_month_included  minutes_included  \\\n",
      "0                 50                  15360               500   \n",
      "1               1000                  30720              3000   \n",
      "\n",
      "   rub_monthly_fee  rub_per_gb  rub_per_message  rub_per_minute tariff_name  \n",
      "0              550         200                3               3       smart  \n",
      "1             1950         150                1               1       ultra  \n"
     ]
    }
   ],
   "source": [
    "print(data_tariffs.head(10))"
   ]
  },
  {
   "cell_type": "code",
   "execution_count": 127,
   "metadata": {},
   "outputs": [
    {
     "name": "stdout",
     "output_type": "stream",
     "text": [
      "   user_id  age churn_date              city first_name  last_name  \\\n",
      "0     1000   52        NaN         Краснодар     Рафаил  Верещагин   \n",
      "1     1001   41        NaN            Москва       Иван       Ежов   \n",
      "2     1002   59        NaN       Стерлитамак    Евгений  Абрамович   \n",
      "3     1003   23        NaN            Москва      Белла   Белякова   \n",
      "4     1004   68        NaN       Новокузнецк    Татьяна   Авдеенко   \n",
      "5     1005   67        NaN  Набережные Челны   Афанасий     Горлов   \n",
      "6     1006   21        NaN         Ульяновск     Леонид   Ермолаев   \n",
      "7     1007   65        NaN            Москва        Юна   Березина   \n",
      "8     1008   63        NaN         Челябинск     Рустэм  Пономарёв   \n",
      "9     1009   24        NaN             Пермь   Василиса    Блинова   \n",
      "\n",
      "     reg_date tariff  \n",
      "0  2018-05-25  ultra  \n",
      "1  2018-11-01  smart  \n",
      "2  2018-06-17  smart  \n",
      "3  2018-08-17  ultra  \n",
      "4  2018-05-14  ultra  \n",
      "5  2018-01-25  smart  \n",
      "6  2018-02-26  smart  \n",
      "7  2018-04-19  smart  \n",
      "8  2018-12-19  smart  \n",
      "9  2018-03-22  smart  \n"
     ]
    }
   ],
   "source": [
    "print(data_users.head(10))"
   ]
  },
  {
   "cell_type": "markdown",
   "metadata": {},
   "source": [
    "Проверим типы данных в столбцах и проведём предобработку данных\n",
    "\n"
   ]
  },
  {
   "cell_type": "code",
   "execution_count": 128,
   "metadata": {},
   "outputs": [
    {
     "name": "stdout",
     "output_type": "stream",
     "text": [
      "['2018-07-25' '2018-08-17' '2018-06-11' '2018-09-21' '2018-12-15'\n",
      " '2018-11-02' '2018-10-18' '2018-08-22' '2018-09-15' '2018-08-15'\n",
      " '2018-05-28' '2018-07-05' '2018-09-29' '2018-12-11' '2018-07-27'\n",
      " '2018-08-11' '2018-08-02' '2018-06-15' '2018-12-04' '2018-08-20'\n",
      " '2018-09-25' '2018-07-21' '2018-08-27' '2018-08-25' '2018-12-12'\n",
      " '2018-07-19' '2018-11-14' '2018-12-26' '2018-12-02' '2018-10-08'\n",
      " '2018-09-23' '2018-10-09' '2018-05-25' '2018-06-13' '2018-10-25'\n",
      " '2018-12-29' '2018-07-12' '2018-11-20' '2018-06-05' '2018-10-13'\n",
      " '2018-06-26' '2018-07-14' '2018-07-20' '2018-12-01' '2018-06-17'\n",
      " '2018-10-24' '2018-11-26' '2018-09-19' '2018-05-30' '2018-12-21'\n",
      " '2018-12-23' '2018-07-03' '2018-10-04' '2018-09-16' '2018-11-21'\n",
      " '2018-10-28' '2018-08-29' '2018-08-13' '2018-07-18' '2018-06-03'\n",
      " '2018-09-03' '2018-08-14' '2018-11-01' '2018-05-26' '2018-11-23'\n",
      " '2018-09-30' '2018-11-09' '2018-08-01' '2018-06-18' '2018-10-20'\n",
      " '2018-11-07' '2018-08-04' '2018-09-06' '2018-10-27' '2018-10-15'\n",
      " '2018-10-26' '2018-11-18' '2018-07-30' '2018-10-06' '2018-12-17'\n",
      " '2018-08-24' '2018-09-28' '2018-07-06' '2018-06-02' '2018-09-02'\n",
      " '2018-12-10' '2018-11-03' '2018-07-28' '2018-09-27' '2018-12-24'\n",
      " '2018-07-29' '2018-12-18' '2018-10-16' '2018-10-07' '2018-11-12'\n",
      " '2018-07-23' '2018-08-26' '2018-09-07' '2018-09-14' '2018-07-15'\n",
      " '2018-09-17' '2018-09-09' '2018-10-02' '2018-07-02' '2018-10-21'\n",
      " '2018-07-10' '2018-09-10' '2018-07-11' '2018-09-20' '2018-11-04'\n",
      " '2018-12-05' '2018-06-22' '2018-07-04' '2018-08-09' '2018-12-25'\n",
      " '2018-06-12' '2018-12-22' '2018-07-17' '2018-09-18' '2018-10-14'\n",
      " '2018-11-15' '2018-06-19' '2018-06-07' '2018-11-25' '2018-12-07'\n",
      " '2018-05-31' '2018-06-27' '2018-12-03' '2018-06-28' '2018-09-13'\n",
      " '2018-11-19' '2018-09-11' '2018-06-21' '2018-11-27' '2018-08-10'\n",
      " '2018-08-07' '2018-09-24' '2018-10-01' '2018-06-20' '2018-10-19'\n",
      " '2018-07-26' '2018-09-12' '2018-11-24' '2018-12-09' '2018-06-10'\n",
      " '2018-06-14' '2018-06-24' '2018-11-11' '2018-11-05' '2018-06-29'\n",
      " '2018-09-05' '2018-08-23' '2018-08-19' '2018-08-03' '2018-06-25'\n",
      " '2018-05-27' '2018-07-07' '2018-11-16' '2018-09-08' '2018-10-11'\n",
      " '2018-05-29' '2018-12-19' '2018-08-30' '2018-07-24' '2018-10-03'\n",
      " '2018-12-08' '2018-06-08' '2018-10-05' '2018-11-28' '2018-10-29'\n",
      " '2018-12-27' '2018-11-29' '2018-10-30' '2018-11-08' '2018-07-08'\n",
      " '2018-06-23' '2018-12-06' '2018-12-13' '2018-11-13' '2018-12-14'\n",
      " '2018-12-30' '2018-11-22' '2018-12-28' '2018-12-20' '2018-11-10'\n",
      " '2018-11-30' '2018-12-16' '2018-11-17' '2018-12-31' '2018-08-18'\n",
      " '2018-07-09' '2018-07-16' '2018-08-05' '2018-08-06' '2018-10-31'\n",
      " '2018-09-04' '2018-07-31' '2018-11-06' '2018-10-17' '2018-10-22'\n",
      " '2018-09-26' '2018-10-23' '2018-09-22' '2018-09-01' '2018-08-28'\n",
      " '2018-08-08' '2018-08-12' '2018-07-01' '2018-07-22' '2018-08-31'\n",
      " '2018-10-12' '2018-10-10' '2018-08-21' '2018-08-16' '2018-06-30'\n",
      " '2018-05-14' '2018-05-18' '2018-05-24' '2018-07-13' '2018-06-06'\n",
      " '2018-05-19' '2018-05-23' '2018-05-17' '2018-03-21' '2018-04-09'\n",
      " '2018-05-13' '2018-04-05' '2018-04-12' '2018-01-28' '2018-03-06'\n",
      " '2018-04-23' '2018-03-15' '2018-03-04' '2018-03-09' '2018-02-27'\n",
      " '2018-03-27' '2018-06-16' '2018-03-12' '2018-04-21' '2018-05-09'\n",
      " '2018-03-11' '2018-04-14' '2018-03-07' '2018-01-27' '2018-02-18'\n",
      " '2018-03-01' '2018-02-24' '2018-05-10' '2018-03-08' '2018-02-23'\n",
      " '2018-03-03' '2018-04-22' '2018-02-09' '2018-01-31' '2018-02-19'\n",
      " '2018-03-13' '2018-03-30' '2018-05-08' '2018-04-17' '2018-04-18'\n",
      " '2018-01-29' '2018-04-19' '2018-04-02' '2018-05-05' '2018-04-10'\n",
      " '2018-03-19' '2018-04-06' '2018-04-24' '2018-03-10' '2018-05-22'\n",
      " '2018-03-16' '2018-02-12' '2018-05-01' '2018-02-13' '2018-01-26'\n",
      " '2018-02-01' '2018-02-02' '2018-04-26' '2018-02-10' '2018-04-04'\n",
      " '2018-06-09' '2018-03-18' '2018-03-31' '2018-04-01' '2018-02-20'\n",
      " '2018-02-03' '2018-02-07' '2018-04-16' '2018-02-04' '2018-05-21'\n",
      " '2018-05-02' '2018-04-08' '2018-06-04' '2018-03-20' '2018-02-17'\n",
      " '2018-03-23' '2018-05-04' '2018-05-11' '2018-03-22' '2018-05-03'\n",
      " '2018-02-08' '2018-02-06' '2018-02-15' '2018-05-20' '2018-03-26'\n",
      " '2018-03-28' '2018-03-24' '2018-04-15' '2018-04-30' '2018-02-25'\n",
      " '2018-04-25' '2018-03-25' '2018-05-15' '2018-03-29' '2018-02-22'\n",
      " '2018-04-28' '2018-04-03' '2018-03-17' '2018-04-13' '2018-03-05'\n",
      " '2018-04-11' '2018-01-30' '2018-05-07' '2018-06-01' '2018-02-11'\n",
      " '2018-05-16' '2018-02-16' '2018-04-27' '2018-01-25' '2018-05-06'\n",
      " '2018-02-21' '2018-04-29' '2018-04-07' '2018-02-28' '2018-02-14'\n",
      " '2018-03-02' '2018-03-14' '2018-02-26' '2018-04-20' '2018-05-12'\n",
      " '2018-01-05' '2018-01-13' '2018-01-18' '2018-01-12' '2018-01-20'\n",
      " '2018-01-24' '2018-01-21' '2018-01-22' '2018-01-15' '2018-01-16'\n",
      " '2018-02-05' '2018-01-10' '2018-01-11' '2018-01-08' '2018-01-14'\n",
      " '2018-01-19' '2018-01-04' '2018-01-09' '2018-01-07' '2018-01-02'\n",
      " '2018-01-06' '2018-01-17' '2018-01-03' '2018-01-23' '2018-01-01']\n"
     ]
    }
   ],
   "source": [
    "print(data_calls['call_date'].unique())"
   ]
  },
  {
   "cell_type": "markdown",
   "metadata": {},
   "source": [
    "Данные представлены в строковом формате, приведём их к формату даты"
   ]
  },
  {
   "cell_type": "code",
   "execution_count": 129,
   "metadata": {},
   "outputs": [
    {
     "name": "stdout",
     "output_type": "stream",
     "text": [
      "<class 'pandas.core.frame.DataFrame'>\n",
      "RangeIndex: 202607 entries, 0 to 202606\n",
      "Data columns (total 4 columns):\n",
      " #   Column     Non-Null Count   Dtype         \n",
      "---  ------     --------------   -----         \n",
      " 0   id         202607 non-null  object        \n",
      " 1   call_date  202607 non-null  datetime64[ns]\n",
      " 2   duration   202607 non-null  float64       \n",
      " 3   user_id    202607 non-null  int64         \n",
      "dtypes: datetime64[ns](1), float64(1), int64(1), object(1)\n",
      "memory usage: 6.2+ MB\n",
      "None\n"
     ]
    }
   ],
   "source": [
    "data_calls[\"call_date\"] = pd.to_datetime(data_calls[\"call_date\"], format=\"%Y-%m-%d\")\n",
    "print(data_calls.info())"
   ]
  },
  {
   "cell_type": "markdown",
   "metadata": {},
   "source": [
    "Проверим на дубликаты по id\n",
    "id - уникальный идентификатор звонка, если есть дубликаты id => есть ошибка в данных"
   ]
  },
  {
   "cell_type": "code",
   "execution_count": 130,
   "metadata": {},
   "outputs": [
    {
     "name": "stdout",
     "output_type": "stream",
     "text": [
      "202607\n"
     ]
    }
   ],
   "source": [
    "print(data_calls[\"id\"].nunique())"
   ]
  },
  {
   "cell_type": "markdown",
   "metadata": {},
   "source": [
    "В столбце id дубликаты не найдены, так как количество уникальных значений равно количеству строк в данном столбце"
   ]
  },
  {
   "cell_type": "code",
   "execution_count": 131,
   "metadata": {},
   "outputs": [
    {
     "name": "stdout",
     "output_type": "stream",
     "text": [
      "duration\n",
      "0.00     39613\n",
      "4.49       142\n",
      "5.50       142\n",
      "6.15       141\n",
      "6.38       141\n",
      "         ...  \n",
      "26.94        1\n",
      "32.19        1\n",
      "26.32        1\n",
      "27.41        1\n",
      "26.90        1\n",
      "Name: count, Length: 2871, dtype: int64\n"
     ]
    }
   ],
   "source": [
    "print(data_calls['duration'].value_counts())"
   ]
  },
  {
   "cell_type": "markdown",
   "metadata": {},
   "source": [
    "Проверим на пропуски таблицу data_calls"
   ]
  },
  {
   "cell_type": "code",
   "execution_count": 132,
   "metadata": {},
   "outputs": [
    {
     "name": "stdout",
     "output_type": "stream",
     "text": [
      "Empty DataFrame\n",
      "Columns: [id, call_date, duration, user_id]\n",
      "Index: []\n",
      "Empty DataFrame\n",
      "Columns: [id, call_date, duration, user_id]\n",
      "Index: []\n",
      "Empty DataFrame\n",
      "Columns: [id, call_date, duration, user_id]\n",
      "Index: []\n",
      "Empty DataFrame\n",
      "Columns: [id, call_date, duration, user_id]\n",
      "Index: []\n"
     ]
    }
   ],
   "source": [
    "print(data_calls[data_calls['id'].isna()].head(5))\n",
    "print(data_calls[data_calls['user_id'].isna()].head(5))\n",
    "print(data_calls[data_calls['call_date'].isna()].head(5))\n",
    "print(data_calls[data_calls['duration'].isna()].head(5))"
   ]
  },
  {
   "cell_type": "markdown",
   "metadata": {},
   "source": [
    "Проверим таблицу data_internet"
   ]
  },
  {
   "cell_type": "code",
   "execution_count": 133,
   "metadata": {},
   "outputs": [
    {
     "name": "stdout",
     "output_type": "stream",
     "text": [
      "<class 'pandas.core.frame.DataFrame'>\n",
      "RangeIndex: 149396 entries, 0 to 149395\n",
      "Data columns (total 5 columns):\n",
      " #   Column        Non-Null Count   Dtype  \n",
      "---  ------        --------------   -----  \n",
      " 0   Unnamed: 0    149396 non-null  int64  \n",
      " 1   id            149396 non-null  object \n",
      " 2   mb_used       149396 non-null  float64\n",
      " 3   session_date  149396 non-null  object \n",
      " 4   user_id       149396 non-null  int64  \n",
      "dtypes: float64(1), int64(2), object(2)\n",
      "memory usage: 5.7+ MB\n",
      "None\n"
     ]
    }
   ],
   "source": [
    "print(data_internet.info())"
   ]
  },
  {
   "cell_type": "code",
   "execution_count": 134,
   "metadata": {},
   "outputs": [
    {
     "name": "stdout",
     "output_type": "stream",
     "text": [
      "<class 'str'>\n"
     ]
    }
   ],
   "source": [
    "print(type(data_internet[\"session_date\"][0]))"
   ]
  },
  {
   "cell_type": "markdown",
   "metadata": {},
   "source": [
    "Мы выявили данные даты в виде строки, для анализа следует привести их к типу даты"
   ]
  },
  {
   "cell_type": "code",
   "execution_count": 135,
   "metadata": {},
   "outputs": [
    {
     "name": "stdout",
     "output_type": "stream",
     "text": [
      "<class 'pandas.core.frame.DataFrame'>\n",
      "RangeIndex: 149396 entries, 0 to 149395\n",
      "Data columns (total 4 columns):\n",
      " #   Column        Non-Null Count   Dtype         \n",
      "---  ------        --------------   -----         \n",
      " 0   id            149396 non-null  object        \n",
      " 1   mb_used       149396 non-null  float64       \n",
      " 2   session_date  149396 non-null  datetime64[ns]\n",
      " 3   user_id       149396 non-null  int64         \n",
      "dtypes: datetime64[ns](1), float64(1), int64(1), object(1)\n",
      "memory usage: 4.6+ MB\n",
      "None\n"
     ]
    }
   ],
   "source": [
    "data_internet[\"session_date\"] = pd.to_datetime(data_internet[\"session_date\"], format=\"%Y-%m-%d\")\n",
    "data_internet = data_internet.drop(columns='Unnamed: 0', axis=1)\n",
    "print(data_internet.info())"
   ]
  },
  {
   "cell_type": "code",
   "execution_count": 136,
   "metadata": {},
   "outputs": [
    {
     "name": "stdout",
     "output_type": "stream",
     "text": [
      "Empty DataFrame\n",
      "Columns: [id, mb_used, session_date, user_id]\n",
      "Index: []\n",
      "Empty DataFrame\n",
      "Columns: [id, mb_used, session_date, user_id]\n",
      "Index: []\n",
      "Empty DataFrame\n",
      "Columns: [id, mb_used, session_date, user_id]\n",
      "Index: []\n",
      "Empty DataFrame\n",
      "Columns: [id, mb_used, session_date, user_id]\n",
      "Index: []\n"
     ]
    }
   ],
   "source": [
    "print(data_internet[data_internet['id'].isna()].head(5))\n",
    "print(data_internet[data_internet['user_id'].isna()].head(5))\n",
    "print(data_internet[data_internet['session_date'].isna()].head(5))\n",
    "print(data_internet[data_internet['mb_used'].isna()].head(5))"
   ]
  },
  {
   "cell_type": "markdown",
   "metadata": {},
   "source": [
    "Пропусков не обнаружено"
   ]
  },
  {
   "cell_type": "markdown",
   "metadata": {},
   "source": [
    "Проверим таблицу data_messages"
   ]
  },
  {
   "cell_type": "code",
   "execution_count": 137,
   "metadata": {},
   "outputs": [
    {
     "name": "stdout",
     "output_type": "stream",
     "text": [
      "<class 'pandas.core.frame.DataFrame'>\n",
      "RangeIndex: 123036 entries, 0 to 123035\n",
      "Data columns (total 3 columns):\n",
      " #   Column        Non-Null Count   Dtype \n",
      "---  ------        --------------   ----- \n",
      " 0   id            123036 non-null  object\n",
      " 1   message_date  123036 non-null  object\n",
      " 2   user_id       123036 non-null  int64 \n",
      "dtypes: int64(1), object(2)\n",
      "memory usage: 2.8+ MB\n",
      "None\n"
     ]
    }
   ],
   "source": [
    "print(data_messages.info())"
   ]
  },
  {
   "cell_type": "markdown",
   "metadata": {},
   "source": [
    "Приведём данные столбца messages_date к типу даты"
   ]
  },
  {
   "cell_type": "code",
   "execution_count": 138,
   "metadata": {},
   "outputs": [
    {
     "name": "stdout",
     "output_type": "stream",
     "text": [
      "<class 'pandas.core.frame.DataFrame'>\n",
      "RangeIndex: 123036 entries, 0 to 123035\n",
      "Data columns (total 3 columns):\n",
      " #   Column        Non-Null Count   Dtype         \n",
      "---  ------        --------------   -----         \n",
      " 0   id            123036 non-null  object        \n",
      " 1   message_date  123036 non-null  datetime64[ns]\n",
      " 2   user_id       123036 non-null  int64         \n",
      "dtypes: datetime64[ns](1), int64(1), object(1)\n",
      "memory usage: 2.8+ MB\n",
      "None\n"
     ]
    }
   ],
   "source": [
    "data_messages[\"message_date\"] = pd.to_datetime(data_messages['message_date'], format=\"%Y-%m-%d\")\n",
    "print(data_messages.info())"
   ]
  },
  {
   "cell_type": "markdown",
   "metadata": {},
   "source": [
    "Данные для анализа подготовлены\n"
   ]
  },
  {
   "cell_type": "markdown",
   "metadata": {},
   "source": [
    "<h1>Шаг 3: проанализируем поведение каждого пользователя в месяц</h1>"
   ]
  },
  {
   "cell_type": "code",
   "execution_count": 139,
   "metadata": {},
   "outputs": [
    {
     "name": "stdout",
     "output_type": "stream",
     "text": [
      "<class 'pandas.core.frame.DataFrame'>\n",
      "RangeIndex: 202607 entries, 0 to 202606\n",
      "Data columns (total 11 columns):\n",
      " #   Column      Non-Null Count   Dtype         \n",
      "---  ------      --------------   -----         \n",
      " 0   id          202607 non-null  object        \n",
      " 1   call_date   202607 non-null  datetime64[ns]\n",
      " 2   duration    202607 non-null  float64       \n",
      " 3   user_id     202607 non-null  int64         \n",
      " 4   age         202607 non-null  int64         \n",
      " 5   churn_date  9919 non-null    object        \n",
      " 6   city        202607 non-null  object        \n",
      " 7   first_name  202607 non-null  object        \n",
      " 8   last_name   202607 non-null  object        \n",
      " 9   reg_date    202607 non-null  object        \n",
      " 10  tariff      202607 non-null  object        \n",
      "dtypes: datetime64[ns](1), float64(1), int64(2), object(7)\n",
      "memory usage: 17.0+ MB\n",
      "None\n"
     ]
    }
   ],
   "source": [
    "data_calls_users = pd.merge(data_calls, data_users, on='user_id')\n",
    "print(data_calls_users.info())"
   ]
  },
  {
   "cell_type": "code",
   "execution_count": 140,
   "metadata": {},
   "outputs": [
    {
     "name": "stdout",
     "output_type": "stream",
     "text": [
      "<class 'pandas.core.frame.DataFrame'>\n",
      "RangeIndex: 202607 entries, 0 to 202606\n",
      "Data columns (total 11 columns):\n",
      " #   Column      Non-Null Count   Dtype         \n",
      "---  ------      --------------   -----         \n",
      " 0   id          202607 non-null  object        \n",
      " 1   call_date   202607 non-null  datetime64[ns]\n",
      " 2   duration    202607 non-null  float64       \n",
      " 3   user_id     202607 non-null  int64         \n",
      " 4   age         202607 non-null  int64         \n",
      " 5   churn_date  9919 non-null    object        \n",
      " 6   city        202607 non-null  object        \n",
      " 7   first_name  202607 non-null  object        \n",
      " 8   last_name   202607 non-null  object        \n",
      " 9   reg_date    202607 non-null  datetime64[ns]\n",
      " 10  tariff      202607 non-null  object        \n",
      "dtypes: datetime64[ns](2), float64(1), int64(2), object(6)\n",
      "memory usage: 17.0+ MB\n",
      "None\n"
     ]
    }
   ],
   "source": [
    "data_calls_users[\"reg_date\"] = pd.to_datetime(data_calls_users['reg_date'], format=\"%Y-%m-%d\")\n",
    "print(data_calls_users.info())"
   ]
  },
  {
   "cell_type": "markdown",
   "metadata": {},
   "source": [
    "Добавляем столбец месяца в таблицу"
   ]
  },
  {
   "cell_type": "code",
   "execution_count": 141,
   "metadata": {},
   "outputs": [],
   "source": [
    "data_calls_users['month'] = data_calls_users['call_date'].dt.to_period(\"M\")\n"
   ]
  },
  {
   "cell_type": "markdown",
   "metadata": {},
   "source": [
    "Группируем по user_id, месяцу и тарифу, подсчитываем длительность звонков"
   ]
  },
  {
   "cell_type": "code",
   "execution_count": 142,
   "metadata": {},
   "outputs": [
    {
     "name": "stdout",
     "output_type": "stream",
     "text": [
      "      user_id    month tariff  duration\n",
      "0        1000  2018-05  ultra    150.06\n",
      "1        1000  2018-06  ultra    158.90\n",
      "2        1000  2018-07  ultra    318.80\n",
      "3        1000  2018-08  ultra    389.87\n",
      "4        1000  2018-09  ultra    440.14\n",
      "...       ...      ...    ...       ...\n",
      "3169     1498  2018-10  smart    232.63\n",
      "3170     1499  2018-09  smart     64.65\n",
      "3171     1499  2018-10  smart    429.91\n",
      "3172     1499  2018-11  smart    576.50\n",
      "3173     1499  2018-12  smart    465.16\n",
      "\n",
      "[3174 rows x 4 columns]\n"
     ]
    }
   ],
   "source": [
    "monthly_calls = data_calls_users.groupby(['user_id', 'month', 'tariff'])['duration'].sum().reset_index()\n",
    "print(monthly_calls)"
   ]
  },
  {
   "cell_type": "markdown",
   "metadata": {},
   "source": [
    "<h6>Посчитаем среднее значение, дисперсию и стандартное отклонение</h6>"
   ]
  },
  {
   "cell_type": "code",
   "execution_count": 143,
   "metadata": {},
   "outputs": [
    {
     "name": "stdout",
     "output_type": "stream",
     "text": [
      "      month tariff  duration\n",
      "0   2018-01  smart  6.974963\n",
      "1   2018-01  ultra  6.809346\n",
      "2   2018-02  smart  7.040704\n",
      "3   2018-02  ultra  6.753962\n",
      "4   2018-03  smart  6.771824\n",
      "5   2018-03  ultra  6.831993\n",
      "6   2018-04  smart  6.747334\n",
      "7   2018-04  ultra  6.738721\n",
      "8   2018-05  smart  6.611283\n",
      "9   2018-05  ultra  6.643781\n",
      "10  2018-06  smart  6.718277\n",
      "11  2018-06  ultra  6.786695\n",
      "12  2018-07  smart  6.795756\n",
      "13  2018-07  ultra  6.799307\n",
      "14  2018-08  smart  6.746361\n",
      "15  2018-08  ultra  6.760233\n",
      "16  2018-09  smart  6.793373\n",
      "17  2018-09  ultra  6.824590\n",
      "18  2018-10  smart  6.708741\n",
      "19  2018-10  ultra  6.808866\n",
      "20  2018-11  smart  6.675857\n",
      "21  2018-11  ultra  6.801206\n",
      "22  2018-12  smart  6.793796\n",
      "23  2018-12  ultra  6.716893\n"
     ]
    }
   ],
   "source": [
    "avg_minutes_per_tariff = data_calls_users.groupby(['month', 'tariff'])['duration'].mean().reset_index()\n",
    "print(avg_minutes_per_tariff) # рассчитали среднее занчение"
   ]
  },
  {
   "cell_type": "code",
   "execution_count": 152,
   "metadata": {},
   "outputs": [
    {
     "name": "stdout",
     "output_type": "stream",
     "text": [
      "      month tariff        var       std\n",
      "0   2018-01  smart  35.827894  5.985641\n",
      "1   2018-01  ultra  36.112254  6.009347\n",
      "2   2018-02  smart  34.612611  5.883248\n",
      "3   2018-02  ultra  32.134512  5.668731\n",
      "4   2018-03  smart  33.790706  5.812977\n",
      "5   2018-03  ultra  35.308513  5.942097\n",
      "6   2018-04  smart  34.540648  5.877129\n",
      "7   2018-04  ultra  34.270921  5.854137\n",
      "8   2018-05  smart  33.354986  5.775378\n",
      "9   2018-05  ultra  34.266769  5.853782\n",
      "10  2018-06  smart  33.911600  5.823367\n",
      "11  2018-06  ultra  34.422037  5.867030\n",
      "12  2018-07  smart  34.634499  5.885108\n",
      "13  2018-07  ultra  33.811895  5.814800\n",
      "14  2018-08  smart  34.571332  5.879739\n",
      "15  2018-08  ultra  34.144186  5.843303\n",
      "16  2018-09  smart  34.183774  5.846689\n",
      "17  2018-09  ultra  33.986318  5.829779\n",
      "18  2018-10  smart  33.975892  5.828884\n",
      "19  2018-10  ultra  33.977091  5.828987\n",
      "20  2018-11  smart  34.014018  5.832154\n",
      "21  2018-11  ultra  34.454634  5.869807\n",
      "22  2018-12  smart  33.966655  5.828092\n",
      "23  2018-12  ultra  34.124556  5.841623\n"
     ]
    }
   ],
   "source": [
    "stats_per_tariff_calls = data_calls_users.groupby(['month', 'tariff'])['duration'].agg(['var', 'std']).reset_index()\n",
    "print(stats_per_tariff_calls)"
   ]
  },
  {
   "cell_type": "markdown",
   "metadata": {},
   "source": [
    "<h6>Построим гистограммы</h6>"
   ]
  },
  {
   "cell_type": "code",
   "execution_count": 153,
   "metadata": {},
   "outputs": [
    {
     "data": {
      "image/png": "[encoded data removed]",
      "text/plain": [
       "<Figure size 640x480 with 1 Axes>"
      ]
     },
     "metadata": {},
     "output_type": "display_data"
    }
   ],
   "source": [
    "for tariff in data_calls_users['tariff'].unique():\n",
    "    tariff_data = data_calls_users[data_calls_users['tariff'] == tariff]\n",
    "    plt.hist(tariff_data['duration'], bins=20, alpha=0.7, label=tariff)\n",
    "plt.title('Распределение минут разговора по тарифам')\n",
    "plt.xlabel('Минуты разговора')\n",
    "plt.ylabel('Частота')\n",
    "plt.legend()\n",
    "plt.show()"
   ]
  },
  {
   "cell_type": "markdown",
   "metadata": {},
   "source": [
    "<h3>Посчитаем для сообщений</h3>"
   ]
  },
  {
   "cell_type": "markdown",
   "metadata": {},
   "source": [
    "<h6>Объединим таблицы messages и users</h6>"
   ]
  },
  {
   "cell_type": "code",
   "execution_count": 154,
   "metadata": {},
   "outputs": [],
   "source": [
    "data_messages_users = pd.merge(data_messages, data_users, on='user_id')"
   ]
  },
  {
   "cell_type": "markdown",
   "metadata": {},
   "source": [
    "Добавим столбец месяца "
   ]
  },
  {
   "cell_type": "code",
   "execution_count": 155,
   "metadata": {},
   "outputs": [
    {
     "name": "stdout",
     "output_type": "stream",
     "text": [
      "<class 'pandas.core.frame.DataFrame'>\n",
      "RangeIndex: 123036 entries, 0 to 123035\n",
      "Data columns (total 11 columns):\n",
      " #   Column        Non-Null Count   Dtype         \n",
      "---  ------        --------------   -----         \n",
      " 0   id            123036 non-null  object        \n",
      " 1   message_date  123036 non-null  datetime64[ns]\n",
      " 2   user_id       123036 non-null  int64         \n",
      " 3   age           123036 non-null  int64         \n",
      " 4   churn_date    5339 non-null    object        \n",
      " 5   city          123036 non-null  object        \n",
      " 6   first_name    123036 non-null  object        \n",
      " 7   last_name     123036 non-null  object        \n",
      " 8   reg_date      123036 non-null  object        \n",
      " 9   tariff        123036 non-null  object        \n",
      " 10  month         123036 non-null  period[M]     \n",
      "dtypes: datetime64[ns](1), int64(2), object(7), period[M](1)\n",
      "memory usage: 10.3+ MB\n",
      "None\n"
     ]
    }
   ],
   "source": [
    "data_messages_users['month'] = data_messages_users['message_date'].dt.to_period(\"M\")\n",
    "print(data_messages_users.info())"
   ]
  },
  {
   "cell_type": "markdown",
   "metadata": {},
   "source": [
    "Теперь посчитаем общее количество отправленных сообщений для каждого пользователя в месяц"
   ]
  },
  {
   "cell_type": "code",
   "execution_count": 156,
   "metadata": {},
   "outputs": [
    {
     "name": "stdout",
     "output_type": "stream",
     "text": [
      "        month tariff  user_id  count\n",
      "0     2018-01  smart     1005      7\n",
      "1     2018-01  smart     1032     38\n",
      "2     2018-01  smart     1045      5\n",
      "3     2018-01  smart     1055     30\n",
      "4     2018-01  smart     1071     16\n",
      "...       ...    ...      ...    ...\n",
      "2712  2018-12  ultra     1476     11\n",
      "2713  2018-12  ultra     1485    155\n",
      "2714  2018-12  ultra     1491     51\n",
      "2715  2018-12  ultra     1493     78\n",
      "2716  2018-12  ultra     1495     84\n",
      "\n",
      "[2717 rows x 4 columns]\n"
     ]
    }
   ],
   "source": [
    "monthly_messages = data_messages_users.groupby(['month', 'tariff', 'user_id']).size().reset_index(name='count')\n",
    "print(monthly_messages)"
   ]
  },
  {
   "cell_type": "markdown",
   "metadata": {},
   "source": [
    "Сгруппируем пользователей по тарифным планам и рассчитаем среднее количество сообщений в месяц для каждого тарифа."
   ]
  },
  {
   "cell_type": "code",
   "execution_count": 157,
   "metadata": {},
   "outputs": [
    {
     "name": "stdout",
     "output_type": "stream",
     "text": [
      "      month tariff      count\n",
      "0   2018-01  smart  20.000000\n",
      "1   2018-01  ultra  43.428571\n",
      "2   2018-02  smart  27.940000\n",
      "3   2018-02  ultra  32.937500\n",
      "4   2018-03  smart  35.550725\n",
      "5   2018-03  ultra  47.800000\n",
      "6   2018-04  smart  35.864583\n",
      "7   2018-04  ultra  44.512821\n",
      "8   2018-05  smart  39.032787\n",
      "9   2018-05  ultra  48.769231\n",
      "10  2018-06  smart  38.577465\n",
      "11  2018-06  ultra  52.313433\n",
      "12  2018-07  smart  38.988506\n",
      "13  2018-07  ultra  62.136986\n",
      "14  2018-08  smart  38.750000\n",
      "15  2018-08  ultra  58.897727\n",
      "16  2018-09  smart  39.219731\n",
      "17  2018-09  ultra  63.294737\n",
      "18  2018-10  smart  39.082677\n",
      "19  2018-10  ultra  69.776699\n",
      "20  2018-11  smart  39.881481\n",
      "21  2018-11  ultra  66.159292\n",
      "22  2018-12  smart  42.264808\n",
      "23  2018-12  ultra  72.008547\n"
     ]
    }
   ],
   "source": [
    "avg_messages_per_tariff = monthly_messages.groupby(['month', 'tariff'])['count'].mean().reset_index()\n",
    "print(avg_messages_per_tariff)"
   ]
  },
  {
   "cell_type": "markdown",
   "metadata": {},
   "source": [
    "Рассчитаем дисперсию и стандартное отклонение"
   ]
  },
  {
   "cell_type": "code",
   "execution_count": 158,
   "metadata": {},
   "outputs": [
    {
     "name": "stdout",
     "output_type": "stream",
     "text": [
      "      month tariff          var        std\n",
      "0   2018-01  smart   252.133333  15.878707\n",
      "1   2018-01  ultra   765.285714  27.663798\n",
      "2   2018-02  smart   440.465714  20.987275\n",
      "3   2018-02  ultra   713.395833  26.709471\n",
      "4   2018-03  smart   669.780477  25.880117\n",
      "5   2018-03  ultra  1826.666667  42.739521\n",
      "6   2018-04  smart   517.865680  22.756662\n",
      "7   2018-04  ultra  1408.256410  37.526743\n",
      "8   2018-05  smart   638.775776  25.274014\n",
      "9   2018-05  ultra  1559.553544  39.491183\n",
      "10  2018-06  smart   731.635801  27.048767\n",
      "11  2018-06  ultra  1935.672999  43.996284\n",
      "12  2018-07  smart   719.352468  26.820747\n",
      "13  2018-07  ultra  2190.730974  46.805245\n",
      "14  2018-08  smart   767.213054  27.698611\n",
      "15  2018-08  ultra  2022.966432  44.977399\n",
      "16  2018-09  smart   702.505555  26.504821\n",
      "17  2018-09  ultra  1906.763270  43.666501\n",
      "18  2018-10  smart   736.503019  27.138589\n",
      "19  2018-10  ultra  2426.606511  49.260598\n",
      "20  2018-11  smart   711.361366  26.671359\n",
      "21  2018-11  ultra  2249.295828  47.426742\n",
      "22  2018-12  smart   832.447114  28.852160\n",
      "23  2018-12  ultra  2362.870616  48.609368\n"
     ]
    }
   ],
   "source": [
    "stats_per_tariff_messages = monthly_messages.groupby(['month', 'tariff'])['count'].agg(['var', 'std']).reset_index()\n",
    "print(stats_per_tariff_messages)"
   ]
  },
  {
   "cell_type": "markdown",
   "metadata": {},
   "source": [
    "<h6>Посторим гистограммы</h6>"
   ]
  },
  {
   "cell_type": "code",
   "execution_count": 160,
   "metadata": {},
   "outputs": [
    {
     "data": {
      "image/png": "[encoded data removed]",
      "text/plain": [
       "<Figure size 640x480 with 1 Axes>"
      ]
     },
     "metadata": {},
     "output_type": "display_data"
    }
   ],
   "source": [
    "for tariff in monthly_messages['tariff'].unique():\n",
    "    tariff_data = monthly_messages[monthly_messages['tariff'] == tariff]\n",
    "    plt.hist(tariff_data['count'], bins=20, alpha=0.7, label=tariff)\n",
    "plt.title(\"Распределение количества сообщений по тарифам\")\n",
    "plt.xlabel(\"Количество сообщений\")\n",
    "plt.ylabel(\"Частота\")\n",
    "plt.legend()\n",
    "plt.show()"
   ]
  },
  {
   "cell_type": "markdown",
   "metadata": {},
   "source": [
    "<h3>Посчитаем для расхода интернет траффика</h3>"
   ]
  },
  {
   "cell_type": "markdown",
   "metadata": {},
   "source": [
    "Соединим таблицы data_internet и data_users"
   ]
  },
  {
   "cell_type": "code",
   "execution_count": 162,
   "metadata": {},
   "outputs": [
    {
     "name": "stdout",
     "output_type": "stream",
     "text": [
      "<class 'pandas.core.frame.DataFrame'>\n",
      "RangeIndex: 149396 entries, 0 to 149395\n",
      "Data columns (total 12 columns):\n",
      " #   Column        Non-Null Count   Dtype         \n",
      "---  ------        --------------   -----         \n",
      " 0   id            149396 non-null  object        \n",
      " 1   mb_used       149396 non-null  float64       \n",
      " 2   session_date  149396 non-null  datetime64[ns]\n",
      " 3   user_id       149396 non-null  int64         \n",
      " 4   age           149396 non-null  int64         \n",
      " 5   churn_date    7748 non-null    object        \n",
      " 6   city          149396 non-null  object        \n",
      " 7   first_name    149396 non-null  object        \n",
      " 8   last_name     149396 non-null  object        \n",
      " 9   reg_date      149396 non-null  object        \n",
      " 10  tariff        149396 non-null  object        \n",
      " 11  month         149396 non-null  period[M]     \n",
      "dtypes: datetime64[ns](1), float64(1), int64(2), object(7), period[M](1)\n",
      "memory usage: 13.7+ MB\n",
      "None\n"
     ]
    }
   ],
   "source": [
    "data_internet_users = pd.merge(data_internet, data_users, on='user_id')\n",
    "data_internet_users[\"month\"] = data_internet_users['session_date'].dt.to_period(\"M\")\n",
    "print(data_internet_users.info())"
   ]
  },
  {
   "cell_type": "markdown",
   "metadata": {},
   "source": [
    "Теперь посчитаем общий объём интернет траффика для каждого пользователя в месяц"
   ]
  },
  {
   "cell_type": "code",
   "execution_count": 164,
   "metadata": {},
   "outputs": [
    {
     "name": "stdout",
     "output_type": "stream",
     "text": [
      "        month tariff  user_id   mb_used\n",
      "0     2018-01  smart     1005   2727.97\n",
      "1     2018-01  smart     1032  24127.69\n",
      "2     2018-01  smart     1045   2346.71\n",
      "3     2018-01  smart     1055  17090.88\n",
      "4     2018-01  smart     1071  15604.34\n",
      "...       ...    ...      ...       ...\n",
      "3198  2018-12  ultra     1476  14121.34\n",
      "3199  2018-12  ultra     1485  23422.76\n",
      "3200  2018-12  ultra     1491  22061.69\n",
      "3201  2018-12  ultra     1493  42735.18\n",
      "3202  2018-12  ultra     1495  23426.76\n",
      "\n",
      "[3203 rows x 4 columns]\n"
     ]
    }
   ],
   "source": [
    "monthly_traffic = data_internet_users.groupby(['month', 'tariff', 'user_id'])['mb_used'].sum().reset_index()\n",
    "print(monthly_traffic)"
   ]
  },
  {
   "cell_type": "markdown",
   "metadata": {},
   "source": [
    "Сгруппируем пользователей по тарифным планам и рассчитаем средний объём интернет-трафика в месяц для каждого тарифа."
   ]
  },
  {
   "cell_type": "code",
   "execution_count": 166,
   "metadata": {},
   "outputs": [
    {
     "name": "stdout",
     "output_type": "stream",
     "text": [
      "      month tariff       mb_used\n",
      "0   2018-01  smart   8513.717647\n",
      "1   2018-01  ultra  13140.681111\n",
      "2   2018-02  smart  11597.054310\n",
      "3   2018-02  ultra  12846.477273\n",
      "4   2018-03  smart  15104.159091\n",
      "5   2018-03  ultra  17535.550270\n",
      "6   2018-04  smart  13462.180625\n",
      "7   2018-04  ultra  16828.134364\n",
      "8   2018-05  smart  15805.184326\n",
      "9   2018-05  ultra  19656.534091\n",
      "10  2018-06  smart  15794.647988\n",
      "11  2018-06  ultra  19152.950602\n",
      "12  2018-07  smart  15743.150348\n",
      "13  2018-07  ultra  20723.394778\n",
      "14  2018-08  smart  16681.706068\n",
      "15  2018-08  ultra  19760.734434\n",
      "16  2018-09  smart  16303.578808\n",
      "17  2018-09  ultra  19372.735702\n",
      "18  2018-10  smart  16757.122891\n",
      "19  2018-10  ultra  20209.643361\n",
      "20  2018-11  smart  16895.696646\n",
      "21  2018-11  ultra  19935.585489\n",
      "22  2018-12  smart  18113.662047\n",
      "23  2018-12  ultra  21951.094130\n"
     ]
    }
   ],
   "source": [
    "avg_traffic_per_tariff = monthly_traffic.groupby(['month', 'tariff'])['mb_used'].mean().reset_index()\n",
    "print(avg_traffic_per_tariff)"
   ]
  },
  {
   "cell_type": "markdown",
   "metadata": {},
   "source": [
    "Для каждого тарифа рассчитаем дисперсию и стандартное отклонение объёма интернет-трафика в месяц."
   ]
  },
  {
   "cell_type": "code",
   "execution_count": 168,
   "metadata": {},
   "outputs": [
    {
     "name": "stdout",
     "output_type": "stream",
     "text": [
      "      month tariff           var           std\n",
      "0   2018-01  smart  4.153391e+07   6444.681014\n",
      "1   2018-01  ultra  4.713299e+07   6865.346875\n",
      "2   2018-02  smart  3.902943e+07   6247.353833\n",
      "3   2018-02  ultra  1.096922e+08  10473.403015\n",
      "4   2018-03  smart  3.396835e+07   5828.237537\n",
      "5   2018-03  ultra  1.199416e+08  10951.785885\n",
      "6   2018-04  smart  3.247004e+07   5698.249092\n",
      "7   2018-04  ultra  9.445215e+07   9718.649845\n",
      "8   2018-05  smart  3.573925e+07   5978.231725\n",
      "9   2018-05  ultra  9.662144e+07   9829.620332\n",
      "10  2018-06  smart  3.353748e+07   5791.155586\n",
      "11  2018-06  ultra  8.299037e+07   9109.904861\n",
      "12  2018-07  smart  3.477643e+07   5897.154446\n",
      "13  2018-07  ultra  9.767413e+07   9883.022284\n",
      "14  2018-08  smart  3.023226e+07   5498.387304\n",
      "15  2018-08  ultra  1.071194e+08  10349.849601\n",
      "16  2018-09  smart  2.699962e+07   5196.115749\n",
      "17  2018-09  ultra  8.748982e+07   9353.599420\n",
      "18  2018-10  smart  3.433239e+07   5859.384492\n",
      "19  2018-10  ultra  9.354721e+07   9671.980860\n",
      "20  2018-11  smart  2.851852e+07   5340.273416\n",
      "21  2018-11  ultra  9.591422e+07   9793.580544\n",
      "22  2018-12  smart  3.106594e+07   5573.682673\n",
      "23  2018-12  ultra  1.050053e+08  10247.207641\n"
     ]
    }
   ],
   "source": [
    "stats_per_tariff_internet = monthly_traffic.groupby(['month', 'tariff'])['mb_used'].agg(['var', 'std']).reset_index()\n",
    "print(stats_per_tariff_internet)"
   ]
  },
  {
   "cell_type": "markdown",
   "metadata": {},
   "source": [
    "<h6>Построим гистограммы</h6>"
   ]
  },
  {
   "cell_type": "code",
   "execution_count": 170,
   "metadata": {},
   "outputs": [
    {
     "data": {
      "image/png": "[encoded data removed]",
      "text/plain": [
       "<Figure size 640x480 with 1 Axes>"
      ]
     },
     "metadata": {},
     "output_type": "display_data"
    }
   ],
   "source": [
    "for tariff in monthly_traffic['tariff'].unique():\n",
    "    tariff_data = monthly_traffic[monthly_traffic['tariff'] == tariff]\n",
    "    plt.hist(tariff_data['mb_used'], bins=20, alpha=0.7, label=tariff)\n",
    "plt.title(\"Распределение объёма интернет-трафика по тарифам\")\n",
    "plt.xlabel('Объём трафика, МБ')\n",
    "plt.ylabel('Частота')\n",
    "plt.legend()\n",
    "plt.show()"
   ]
  },
  {
   "cell_type": "markdown",
   "metadata": {},
   "source": [
    "<h1>Шаг 4: проверка гипотез</h1>"
   ]
  },
  {
   "cell_type": "markdown",
   "metadata": {},
   "source": [
    "<h3>Гипотеза 1</h3>"
   ]
  },
  {
   "cell_type": "markdown",
   "metadata": {},
   "source": [
    "<h4>Нулевая гипотеза (H0): средняя выручка пользователей тарифов «Ультра» и «Смарт» одинакова.\n",
    "\n",
    "Альтернативная гипотеза (H1): средняя выручка пользователей тарифов «Ультра» и «Смарт» различается.</h4>"
   ]
  },
  {
   "cell_type": "markdown",
   "metadata": {},
   "source": [
    "<h3>Гипотеза 2</h3>"
   ]
  },
  {
   "cell_type": "markdown",
   "metadata": {},
   "source": [
    "<h4>Нулевая гипотеза (H0): средняя выручка пользователей из Москвы не отличается от выручки пользователей из других регионов.\n",
    "\n",
    "Альтернативная гипотеза (H1): средняя выручка пользователей из Москвы отличается от выручки пользователей из других регионов.</h4>"
   ]
  },
  {
   "cell_type": "markdown",
   "metadata": {},
   "source": [
    "Соединим таблицу data_calls_users с таблицей data_tariffs"
   ]
  },
  {
   "cell_type": "code",
   "execution_count": 174,
   "metadata": {},
   "outputs": [
    {
     "name": "stdout",
     "output_type": "stream",
     "text": [
      "       id  call_date  duration  user_id  age churn_date       city first_name  \\\n",
      "0  1000_0 2018-07-25      0.00     1000   52        NaN  Краснодар     Рафаил   \n",
      "1  1000_1 2018-08-17      0.00     1000   52        NaN  Краснодар     Рафаил   \n",
      "2  1000_2 2018-06-11      2.85     1000   52        NaN  Краснодар     Рафаил   \n",
      "3  1000_3 2018-09-21     13.80     1000   52        NaN  Краснодар     Рафаил   \n",
      "4  1000_4 2018-12-15      5.18     1000   52        NaN  Краснодар     Рафаил   \n",
      "\n",
      "   last_name   reg_date  ... rub_per_minute_x tariff_name_x  \\\n",
      "0  Верещагин 2018-05-25  ...                1         ultra   \n",
      "1  Верещагин 2018-05-25  ...                1         ultra   \n",
      "2  Верещагин 2018-05-25  ...                1         ultra   \n",
      "3  Верещагин 2018-05-25  ...                1         ultra   \n",
      "4  Верещагин 2018-05-25  ...                1         ultra   \n",
      "\n",
      "   messages_included_y  mb_per_month_included_y  minutes_included_y  \\\n",
      "0                 1000                    30720                3000   \n",
      "1                 1000                    30720                3000   \n",
      "2                 1000                    30720                3000   \n",
      "3                 1000                    30720                3000   \n",
      "4                 1000                    30720                3000   \n",
      "\n",
      "   rub_monthly_fee_y  rub_per_gb_y  rub_per_message_y  rub_per_minute_y  \\\n",
      "0               1950           150                  1                 1   \n",
      "1               1950           150                  1                 1   \n",
      "2               1950           150                  1                 1   \n",
      "3               1950           150                  1                 1   \n",
      "4               1950           150                  1                 1   \n",
      "\n",
      "  tariff_name_y  \n",
      "0         ultra  \n",
      "1         ultra  \n",
      "2         ultra  \n",
      "3         ultra  \n",
      "4         ultra  \n",
      "\n",
      "[5 rows x 28 columns]\n"
     ]
    }
   ],
   "source": [
    "data_calls_users = pd.merge(data_calls_users, data_tariffs, left_on='tariff', right_on='tariff_name')\n",
    "print(data_calls_users.head(5))"
   ]
  },
  {
   "cell_type": "markdown",
   "metadata": {},
   "source": [
    "Рассчитаем использование тарифного пакета\n"
   ]
  },
  {
   "cell_type": "code",
   "execution_count": 198,
   "metadata": {},
   "outputs": [
    {
     "name": "stdout",
     "output_type": "stream",
     "text": [
      "     user_id tariff_name_x  minutes_included_y  rub_per_minute_y  \\\n",
      "0       1000         ultra                3000                 1   \n",
      "1       1001         smart                 500                 3   \n",
      "2       1002         smart                 500                 3   \n",
      "3       1003         ultra                3000                 1   \n",
      "4       1004         ultra                3000                 1   \n",
      "..       ...           ...                 ...               ...   \n",
      "487     1495         ultra                3000                 1   \n",
      "488     1496         smart                 500                 3   \n",
      "489     1497         smart                 500                 3   \n",
      "490     1498         smart                 500                 3   \n",
      "491     1499         smart                 500                 3   \n",
      "\n",
      "     rub_monthly_fee_y  duration  \n",
      "0                 1950   2418.24  \n",
      "1                  550    799.46  \n",
      "2                  550   1431.17  \n",
      "3                 1950   3600.52  \n",
      "4                 1950    921.21  \n",
      "..                 ...       ...  \n",
      "487               1950   3688.57  \n",
      "488                550   5661.37  \n",
      "489                550   1324.68  \n",
      "490                550   1221.60  \n",
      "491                550   1536.22  \n",
      "\n",
      "[492 rows x 6 columns]\n"
     ]
    }
   ],
   "source": [
    "data_calls_tariff = data_calls_users.groupby(['user_id', 'tariff_name_x', 'minutes_included_y','rub_per_minute_y','rub_monthly_fee_y'])['duration'].sum().reset_index()\n",
    "print(data_calls_tariff)"
   ]
  },
  {
   "cell_type": "markdown",
   "metadata": {},
   "source": [
    "Отсюда уже можем рассчитать перерасход для каждого пользователя"
   ]
  },
  {
   "cell_type": "code",
   "execution_count": 208,
   "metadata": {},
   "outputs": [
    {
     "name": "stdout",
     "output_type": "stream",
     "text": [
      "     user_id tariff_name_x  minutes_included_y  rub_per_minute_y  \\\n",
      "0       1000         ultra                3000                 1   \n",
      "1       1001         smart                 500                 3   \n",
      "2       1002         smart                 500                 3   \n",
      "3       1003         ultra                3000                 1   \n",
      "4       1004         ultra                3000                 1   \n",
      "..       ...           ...                 ...               ...   \n",
      "487     1495         ultra                3000                 1   \n",
      "488     1496         smart                 500                 3   \n",
      "489     1497         smart                 500                 3   \n",
      "490     1498         smart                 500                 3   \n",
      "491     1499         smart                 500                 3   \n",
      "\n",
      "     rub_monthly_fee_y  duration  excess_minutes  revenue_calls  \n",
      "0                 1950   2418.24          -582.0         1950.0  \n",
      "1                  550    799.46           299.0         1450.0  \n",
      "2                  550   1431.17           931.0         3346.0  \n",
      "3                 1950   3600.52           601.0         2552.0  \n",
      "4                 1950    921.21         -2079.0         1950.0  \n",
      "..                 ...       ...             ...            ...  \n",
      "487               1950   3688.57           689.0         2640.0  \n",
      "488                550   5661.37          5161.0        16036.0  \n",
      "489                550   1324.68           825.0         3028.0  \n",
      "490                550   1221.60           722.0         2719.0  \n",
      "491                550   1536.22          1036.0         3661.0  \n",
      "\n",
      "[492 rows x 8 columns]\n"
     ]
    }
   ],
   "source": [
    "data_calls_tariff['excess_minutes'] = round(data_calls_tariff['duration']-data_calls_tariff['minutes_included_y'])\n",
    "print(data_calls_tariff)"
   ]
  },
  {
   "cell_type": "markdown",
   "metadata": {},
   "source": [
    "В стобце escess_minutes содержится перерасход минут, если число положительное - значит пользователь привысил лимит"
   ]
  },
  {
   "cell_type": "code",
   "execution_count": 210,
   "metadata": {},
   "outputs": [
    {
     "name": "stdout",
     "output_type": "stream",
     "text": [
      "     user_id tariff_name_x  minutes_included_y  rub_per_minute_y  \\\n",
      "0       1000         ultra                3000                 1   \n",
      "1       1001         smart                 500                 3   \n",
      "2       1002         smart                 500                 3   \n",
      "3       1003         ultra                3000                 1   \n",
      "4       1004         ultra                3000                 1   \n",
      "..       ...           ...                 ...               ...   \n",
      "487     1495         ultra                3000                 1   \n",
      "488     1496         smart                 500                 3   \n",
      "489     1497         smart                 500                 3   \n",
      "490     1498         smart                 500                 3   \n",
      "491     1499         smart                 500                 3   \n",
      "\n",
      "     rub_monthly_fee_y  duration  excess_minutes  revenue_calls  \n",
      "0                 1950   2418.24          -582.0            0.0  \n",
      "1                  550    799.46           299.0          897.0  \n",
      "2                  550   1431.17           931.0         2793.0  \n",
      "3                 1950   3600.52           601.0          601.0  \n",
      "4                 1950    921.21         -2079.0            0.0  \n",
      "..                 ...       ...             ...            ...  \n",
      "487               1950   3688.57           689.0          689.0  \n",
      "488                550   5661.37          5161.0        15483.0  \n",
      "489                550   1324.68           825.0         2475.0  \n",
      "490                550   1221.60           722.0         2166.0  \n",
      "491                550   1536.22          1036.0         3108.0  \n",
      "\n",
      "[492 rows x 8 columns]\n"
     ]
    }
   ],
   "source": [
    "data_calls_tariff['revenue_calls'] =(data_calls_tariff['excess_minutes'].apply(lambda x: max(x,0)) * data_calls_tariff[\"rub_per_minute_y\"])\n",
    "print(data_calls_tariff)"
   ]
  },
  {
   "cell_type": "markdown",
   "metadata": {},
   "source": [
    "<h4>Посчитаем выручку по сообщениям</h4>"
   ]
  },
  {
   "cell_type": "code",
   "execution_count": 205,
   "metadata": {},
   "outputs": [
    {
     "name": "stdout",
     "output_type": "stream",
     "text": [
      "              id message_date  user_id  age churn_date       city first_name  \\\n",
      "0         1000_0   2018-06-27     1000   52        NaN  Краснодар     Рафаил   \n",
      "1         1000_1   2018-10-08     1000   52        NaN  Краснодар     Рафаил   \n",
      "2         1000_2   2018-08-04     1000   52        NaN  Краснодар     Рафаил   \n",
      "3         1000_3   2018-06-16     1000   52        NaN  Краснодар     Рафаил   \n",
      "4         1000_4   2018-12-05     1000   52        NaN  Краснодар     Рафаил   \n",
      "...          ...          ...      ...  ...        ...        ...        ...   \n",
      "123031  1499_179   2018-12-12     1499   35        NaN      Пермь     Гектор   \n",
      "123032  1499_180   2018-09-28     1499   35        NaN      Пермь     Гектор   \n",
      "123033  1499_181   2018-09-27     1499   35        NaN      Пермь     Гектор   \n",
      "123034  1499_182   2018-11-15     1499   35        NaN      Пермь     Гектор   \n",
      "123035  1499_183   2018-11-16     1499   35        NaN      Пермь     Гектор   \n",
      "\n",
      "        last_name    reg_date tariff    month  messages_included  \\\n",
      "0       Верещагин  2018-05-25  ultra  2018-06               1000   \n",
      "1       Верещагин  2018-05-25  ultra  2018-10               1000   \n",
      "2       Верещагин  2018-05-25  ultra  2018-08               1000   \n",
      "3       Верещагин  2018-05-25  ultra  2018-06               1000   \n",
      "4       Верещагин  2018-05-25  ultra  2018-12               1000   \n",
      "...           ...         ...    ...      ...                ...   \n",
      "123031   Корнилов  2018-09-27  smart  2018-12                 50   \n",
      "123032   Корнилов  2018-09-27  smart  2018-09                 50   \n",
      "123033   Корнилов  2018-09-27  smart  2018-09                 50   \n",
      "123034   Корнилов  2018-09-27  smart  2018-11                 50   \n",
      "123035   Корнилов  2018-09-27  smart  2018-11                 50   \n",
      "\n",
      "        mb_per_month_included  minutes_included  rub_monthly_fee  rub_per_gb  \\\n",
      "0                       30720              3000             1950         150   \n",
      "1                       30720              3000             1950         150   \n",
      "2                       30720              3000             1950         150   \n",
      "3                       30720              3000             1950         150   \n",
      "4                       30720              3000             1950         150   \n",
      "...                       ...               ...              ...         ...   \n",
      "123031                  15360               500              550         200   \n",
      "123032                  15360               500              550         200   \n",
      "123033                  15360               500              550         200   \n",
      "123034                  15360               500              550         200   \n",
      "123035                  15360               500              550         200   \n",
      "\n",
      "        rub_per_message  rub_per_minute tariff_name  \n",
      "0                     1               1       ultra  \n",
      "1                     1               1       ultra  \n",
      "2                     1               1       ultra  \n",
      "3                     1               1       ultra  \n",
      "4                     1               1       ultra  \n",
      "...                 ...             ...         ...  \n",
      "123031                3               3       smart  \n",
      "123032                3               3       smart  \n",
      "123033                3               3       smart  \n",
      "123034                3               3       smart  \n",
      "123035                3               3       smart  \n",
      "\n",
      "[123036 rows x 19 columns]\n"
     ]
    }
   ],
   "source": [
    "data_messages_users = pd.merge(data_messages_users, data_tariffs, left_on='tariff', right_on='tariff_name')\n",
    "print(data_messages_tariff)"
   ]
  },
  {
   "cell_type": "code",
   "execution_count": 206,
   "metadata": {},
   "outputs": [
    {
     "name": "stdout",
     "output_type": "stream",
     "text": [
      "     user_id  messages_included  rub_per_message  count\n",
      "0       1000               1000                1    496\n",
      "1       1002                 50                3     70\n",
      "2       1003               1000                1    380\n",
      "3       1004               1000                1   1192\n",
      "4       1005                 50                3    552\n",
      "..       ...                ...              ...    ...\n",
      "421     1495               1000                1    340\n",
      "422     1496                 50                3    468\n",
      "423     1497                 50                3     51\n",
      "424     1498                 50                3    168\n",
      "425     1499                 50                3    184\n",
      "\n",
      "[426 rows x 4 columns]\n"
     ]
    }
   ],
   "source": [
    "data_messages_tariff = data_messages_users.groupby(['user_id', 'messages_included', 'rub_per_message']).size().reset_index(name='count')\n",
    "print(data_messages_tariff)"
   ]
  },
  {
   "cell_type": "code",
   "execution_count": 212,
   "metadata": {},
   "outputs": [
    {
     "name": "stdout",
     "output_type": "stream",
     "text": [
      "     user_id  messages_included  rub_per_message  count  excess_message  \\\n",
      "0       1000               1000                1    496            -504   \n",
      "1       1002                 50                3     70              20   \n",
      "2       1003               1000                1    380            -620   \n",
      "3       1004               1000                1   1192             192   \n",
      "4       1005                 50                3    552             502   \n",
      "..       ...                ...              ...    ...             ...   \n",
      "421     1495               1000                1    340            -660   \n",
      "422     1496                 50                3    468             418   \n",
      "423     1497                 50                3     51               1   \n",
      "424     1498                 50                3    168             118   \n",
      "425     1499                 50                3    184             134   \n",
      "\n",
      "     revenue_messages  \n",
      "0                   8  \n",
      "1                 -90  \n",
      "2                 240  \n",
      "3               -1384  \n",
      "4               -1054  \n",
      "..                ...  \n",
      "421               320  \n",
      "422              -886  \n",
      "423               -52  \n",
      "424              -286  \n",
      "425              -318  \n",
      "\n",
      "[426 rows x 6 columns]\n"
     ]
    }
   ],
   "source": [
    "data_messages_tariff['excess_message'] = data_messages_tariff['count'] - data_messages_tariff['messages_included']\n",
    "print(data_messages_tariff)"
   ]
  },
  {
   "cell_type": "markdown",
   "metadata": {},
   "source": [
    "Если число положительно - значит пользователь привысил лимит сообщений"
   ]
  },
  {
   "cell_type": "code",
   "execution_count": 213,
   "metadata": {},
   "outputs": [
    {
     "name": "stdout",
     "output_type": "stream",
     "text": [
      "     user_id  messages_included  rub_per_message  count  excess_message  \\\n",
      "0       1000               1000                1    496            -504   \n",
      "1       1002                 50                3     70              20   \n",
      "2       1003               1000                1    380            -620   \n",
      "3       1004               1000                1   1192             192   \n",
      "4       1005                 50                3    552             502   \n",
      "..       ...                ...              ...    ...             ...   \n",
      "421     1495               1000                1    340            -660   \n",
      "422     1496                 50                3    468             418   \n",
      "423     1497                 50                3     51               1   \n",
      "424     1498                 50                3    168             118   \n",
      "425     1499                 50                3    184             134   \n",
      "\n",
      "     revenue_messages  \n",
      "0                   0  \n",
      "1                  60  \n",
      "2                   0  \n",
      "3                 192  \n",
      "4                1506  \n",
      "..                ...  \n",
      "421                 0  \n",
      "422              1254  \n",
      "423                 3  \n",
      "424               354  \n",
      "425               402  \n",
      "\n",
      "[426 rows x 6 columns]\n"
     ]
    }
   ],
   "source": [
    "data_messages_tariff['revenue_messages'] = (data_messages_tariff['excess_message'].apply(lambda x: max(x,0)) * data_messages_tariff['rub_per_message']) \n",
    "print(data_messages_tariff)"
   ]
  },
  {
   "cell_type": "markdown",
   "metadata": {},
   "source": [
    "Посчитаем выручку за интернет-трафик"
   ]
  },
  {
   "cell_type": "code",
   "execution_count": 214,
   "metadata": {},
   "outputs": [
    {
     "name": "stdout",
     "output_type": "stream",
     "text": [
      "              id  mb_used session_date  user_id  age churn_date       city  \\\n",
      "0         1000_0   112.95   2018-11-25     1000   52        NaN  Краснодар   \n",
      "1         1000_1  1052.81   2018-09-07     1000   52        NaN  Краснодар   \n",
      "2         1000_2  1197.26   2018-06-25     1000   52        NaN  Краснодар   \n",
      "3         1000_3   550.27   2018-08-22     1000   52        NaN  Краснодар   \n",
      "4         1000_4   302.56   2018-09-24     1000   52        NaN  Краснодар   \n",
      "...          ...      ...          ...      ...  ...        ...        ...   \n",
      "149391  1499_152   318.90   2018-10-03     1499   35        NaN      Пермь   \n",
      "149392  1499_153   490.13   2018-12-14     1499   35        NaN      Пермь   \n",
      "149393  1499_154     0.00   2018-10-27     1499   35        NaN      Пермь   \n",
      "149394  1499_155  1246.32   2018-11-26     1499   35        NaN      Пермь   \n",
      "149395  1499_156   544.37   2018-10-26     1499   35        NaN      Пермь   \n",
      "\n",
      "       first_name  last_name    reg_date tariff    month  messages_included  \\\n",
      "0          Рафаил  Верещагин  2018-05-25  ultra  2018-11               1000   \n",
      "1          Рафаил  Верещагин  2018-05-25  ultra  2018-09               1000   \n",
      "2          Рафаил  Верещагин  2018-05-25  ultra  2018-06               1000   \n",
      "3          Рафаил  Верещагин  2018-05-25  ultra  2018-08               1000   \n",
      "4          Рафаил  Верещагин  2018-05-25  ultra  2018-09               1000   \n",
      "...           ...        ...         ...    ...      ...                ...   \n",
      "149391     Гектор   Корнилов  2018-09-27  smart  2018-10                 50   \n",
      "149392     Гектор   Корнилов  2018-09-27  smart  2018-12                 50   \n",
      "149393     Гектор   Корнилов  2018-09-27  smart  2018-10                 50   \n",
      "149394     Гектор   Корнилов  2018-09-27  smart  2018-11                 50   \n",
      "149395     Гектор   Корнилов  2018-09-27  smart  2018-10                 50   \n",
      "\n",
      "        mb_per_month_included  minutes_included  rub_monthly_fee  rub_per_gb  \\\n",
      "0                       30720              3000             1950         150   \n",
      "1                       30720              3000             1950         150   \n",
      "2                       30720              3000             1950         150   \n",
      "3                       30720              3000             1950         150   \n",
      "4                       30720              3000             1950         150   \n",
      "...                       ...               ...              ...         ...   \n",
      "149391                  15360               500              550         200   \n",
      "149392                  15360               500              550         200   \n",
      "149393                  15360               500              550         200   \n",
      "149394                  15360               500              550         200   \n",
      "149395                  15360               500              550         200   \n",
      "\n",
      "        rub_per_message  rub_per_minute tariff_name  \n",
      "0                     1               1       ultra  \n",
      "1                     1               1       ultra  \n",
      "2                     1               1       ultra  \n",
      "3                     1               1       ultra  \n",
      "4                     1               1       ultra  \n",
      "...                 ...             ...         ...  \n",
      "149391                3               3       smart  \n",
      "149392                3               3       smart  \n",
      "149393                3               3       smart  \n",
      "149394                3               3       smart  \n",
      "149395                3               3       smart  \n",
      "\n",
      "[149396 rows x 20 columns]\n"
     ]
    }
   ],
   "source": [
    "data_internet_users = pd.merge(data_internet_users, data_tariffs, left_on='tariff', right_on='tariff_name')\n",
    "print(data_internet_users)"
   ]
  },
  {
   "cell_type": "code",
   "execution_count": 259,
   "metadata": {},
   "outputs": [
    {
     "name": "stdout",
     "output_type": "stream",
     "text": [
      "     user_id  mb_per_month_included  rub_per_gb tariff         city    mb_used\n",
      "0       1000                  30720         150  ultra    Краснодар  107392.31\n",
      "1       1001                  15360         200  smart       Москва   32466.00\n",
      "2       1002                  15360         200  smart  Стерлитамак  116036.52\n",
      "3       1003                  30720         150  ultra       Москва   57280.64\n",
      "4       1004                  30720         150  ultra  Новокузнецк  149039.48\n",
      "..       ...                    ...         ...    ...          ...        ...\n",
      "492     1495                  30720         150  ultra      Иркутск  127410.56\n",
      "493     1496                  15360         200  smart      Вологда  270942.29\n",
      "494     1497                  15360         200  smart    Челябинск   45574.97\n",
      "495     1498                  15360         200  smart  Владикавказ   74425.22\n",
      "496     1499                  15360         200  smart        Пермь   50653.15\n",
      "\n",
      "[497 rows x 6 columns]\n"
     ]
    }
   ],
   "source": [
    "data_internet_tariff = data_internet_users.groupby(['user_id', 'mb_per_month_included', 'rub_per_gb', 'tariff', 'city'])['mb_used'].sum().reset_index()\n",
    "print(data_internet_tariff)"
   ]
  },
  {
   "cell_type": "code",
   "execution_count": 260,
   "metadata": {},
   "outputs": [
    {
     "name": "stdout",
     "output_type": "stream",
     "text": [
      "     user_id  mb_per_month_included  rub_per_gb tariff         city  \\\n",
      "0       1000                  30720         150  ultra    Краснодар   \n",
      "1       1001                  15360         200  smart       Москва   \n",
      "2       1002                  15360         200  smart  Стерлитамак   \n",
      "3       1003                  30720         150  ultra       Москва   \n",
      "4       1004                  30720         150  ultra  Новокузнецк   \n",
      "..       ...                    ...         ...    ...          ...   \n",
      "492     1495                  30720         150  ultra      Иркутск   \n",
      "493     1496                  15360         200  smart      Вологда   \n",
      "494     1497                  15360         200  smart    Челябинск   \n",
      "495     1498                  15360         200  smart  Владикавказ   \n",
      "496     1499                  15360         200  smart        Пермь   \n",
      "\n",
      "       mb_used  excess_mb  \n",
      "0    107392.31   76672.31  \n",
      "1     32466.00   17106.00  \n",
      "2    116036.52  100676.52  \n",
      "3     57280.64   26560.64  \n",
      "4    149039.48  118319.48  \n",
      "..         ...        ...  \n",
      "492  127410.56   96690.56  \n",
      "493  270942.29  255582.29  \n",
      "494   45574.97   30214.97  \n",
      "495   74425.22   59065.22  \n",
      "496   50653.15   35293.15  \n",
      "\n",
      "[497 rows x 7 columns]\n"
     ]
    }
   ],
   "source": [
    "data_internet_tariff['excess_mb'] = data_internet_tariff['mb_used'] - data_internet_tariff['mb_per_month_included']\n",
    "print(data_internet_tariff)"
   ]
  },
  {
   "cell_type": "code",
   "execution_count": 261,
   "metadata": {},
   "outputs": [
    {
     "name": "stdout",
     "output_type": "stream",
     "text": [
      "     user_id  mb_per_month_included  rub_per_gb tariff         city  \\\n",
      "0       1000                  30720         150  ultra    Краснодар   \n",
      "1       1001                  15360         200  smart       Москва   \n",
      "2       1002                  15360         200  smart  Стерлитамак   \n",
      "3       1003                  30720         150  ultra       Москва   \n",
      "4       1004                  30720         150  ultra  Новокузнецк   \n",
      "..       ...                    ...         ...    ...          ...   \n",
      "492     1495                  30720         150  ultra      Иркутск   \n",
      "493     1496                  15360         200  smart      Вологда   \n",
      "494     1497                  15360         200  smart    Челябинск   \n",
      "495     1498                  15360         200  smart  Владикавказ   \n",
      "496     1499                  15360         200  smart        Пермь   \n",
      "\n",
      "       mb_used  excess_mb  revenue_gb  \n",
      "0    107392.31   76672.31     11250.0  \n",
      "1     32466.00   17106.00      3400.0  \n",
      "2    116036.52  100676.52     19600.0  \n",
      "3     57280.64   26560.64      3900.0  \n",
      "4    149039.48  118319.48     17400.0  \n",
      "..         ...        ...         ...  \n",
      "492  127410.56   96690.56     14100.0  \n",
      "493  270942.29  255582.29     50000.0  \n",
      "494   45574.97   30214.97      6000.0  \n",
      "495   74425.22   59065.22     11600.0  \n",
      "496   50653.15   35293.15      6800.0  \n",
      "\n",
      "[497 rows x 8 columns]\n"
     ]
    }
   ],
   "source": [
    "data_internet_tariff['revenue_gb'] = (round((data_internet_tariff['excess_mb'].apply(lambda x: max(x, 0)) / 1024)) * data_internet_tariff['rub_per_gb'])\n",
    "print(data_internet_tariff)"
   ]
  },
  {
   "cell_type": "markdown",
   "metadata": {},
   "source": [
    "Посчитаем общую выручку за каждого пользователя\n"
   ]
  },
  {
   "cell_type": "code",
   "execution_count": 262,
   "metadata": {},
   "outputs": [
    {
     "name": "stdout",
     "output_type": "stream",
     "text": [
      "<class 'pandas.core.frame.DataFrame'>\n"
     ]
    }
   ],
   "source": [
    "data_merged = pd.merge(data_calls_tariff, data_messages_tariff, on='user_id')\n",
    "data_merged = pd.merge(data_merged, data_internet_tariff, on='user_id')\n",
    "print(type(data_merged))"
   ]
  },
  {
   "cell_type": "code",
   "execution_count": 263,
   "metadata": {},
   "outputs": [
    {
     "name": "stdout",
     "output_type": "stream",
     "text": [
      "     user_id tariff_name_x  minutes_included_y  rub_per_minute_y  \\\n",
      "0       1000         ultra                3000                 1   \n",
      "1       1002         smart                 500                 3   \n",
      "2       1003         ultra                3000                 1   \n",
      "3       1004         ultra                3000                 1   \n",
      "4       1005         smart                 500                 3   \n",
      "..       ...           ...                 ...               ...   \n",
      "414     1495         ultra                3000                 1   \n",
      "415     1496         smart                 500                 3   \n",
      "416     1497         smart                 500                 3   \n",
      "417     1498         smart                 500                 3   \n",
      "418     1499         smart                 500                 3   \n",
      "\n",
      "     rub_monthly_fee_y  duration  excess_minutes  revenue_calls  \\\n",
      "0                 1950   2418.24          -582.0            0.0   \n",
      "1                  550   1431.17           931.0         2793.0   \n",
      "2                 1950   3600.52           601.0          601.0   \n",
      "3                 1950    921.21         -2079.0            0.0   \n",
      "4                  550   6242.65          5743.0        17229.0   \n",
      "..                 ...       ...             ...            ...   \n",
      "414               1950   3688.57           689.0          689.0   \n",
      "415                550   5661.37          5161.0        15483.0   \n",
      "416                550   1324.68           825.0         2475.0   \n",
      "417                550   1221.60           722.0         2166.0   \n",
      "418                550   1536.22          1036.0         3108.0   \n",
      "\n",
      "     messages_included  rub_per_message  ...  excess_message  \\\n",
      "0                 1000                1  ...            -504   \n",
      "1                   50                3  ...              20   \n",
      "2                 1000                1  ...            -620   \n",
      "3                 1000                1  ...             192   \n",
      "4                   50                3  ...             502   \n",
      "..                 ...              ...  ...             ...   \n",
      "414               1000                1  ...            -660   \n",
      "415                 50                3  ...             418   \n",
      "416                 50                3  ...               1   \n",
      "417                 50                3  ...             118   \n",
      "418                 50                3  ...             134   \n",
      "\n",
      "     revenue_messages  mb_per_month_included  rub_per_gb  tariff  \\\n",
      "0                   0                  30720         150   ultra   \n",
      "1                  60                  15360         200   smart   \n",
      "2                   0                  30720         150   ultra   \n",
      "3                 192                  30720         150   ultra   \n",
      "4                1506                  15360         200   smart   \n",
      "..                ...                    ...         ...     ...   \n",
      "414                 0                  30720         150   ultra   \n",
      "415              1254                  15360         200   smart   \n",
      "416                 3                  15360         200   smart   \n",
      "417               354                  15360         200   smart   \n",
      "418               402                  15360         200   smart   \n",
      "\n",
      "                 city    mb_used  excess_mb  revenue_gb  revenue  \n",
      "0           Краснодар  107392.31   76672.31     11250.0  13200.0  \n",
      "1         Стерлитамак  116036.52  100676.52     19600.0  23003.0  \n",
      "2              Москва   57280.64   26560.64      3900.0   6451.0  \n",
      "3         Новокузнецк  149039.48  118319.48     17400.0  19542.0  \n",
      "4    Набережные Челны   99687.31   84327.31     16400.0  35685.0  \n",
      "..                ...        ...        ...         ...      ...  \n",
      "414           Иркутск  127410.56   96690.56     14100.0  16739.0  \n",
      "415           Вологда  270942.29  255582.29     50000.0  67287.0  \n",
      "416         Челябинск   45574.97   30214.97      6000.0   9028.0  \n",
      "417       Владикавказ   74425.22   59065.22     11600.0  14670.0  \n",
      "418             Пермь   50653.15   35293.15      6800.0  10860.0  \n",
      "\n",
      "[419 rows x 21 columns]\n"
     ]
    }
   ],
   "source": [
    "data_merged['revenue'] = (data_merged['rub_monthly_fee_y'] + data_merged['revenue_calls'] + data_merged['revenue_messages'] + data_merged['revenue_gb']) \n",
    "print(data_merged)"
   ]
  },
  {
   "cell_type": "code",
   "execution_count": 264,
   "metadata": {},
   "outputs": [
    {
     "name": "stdout",
     "output_type": "stream",
     "text": [
      "  tariff    revenue\n",
      "0  smart  7413013.0\n",
      "1  ultra  2025783.0\n"
     ]
    }
   ],
   "source": [
    "print(data_merged.groupby([\"tariff\"])['revenue'].sum().reset_index()) #Общая выручка за каждый тариф"
   ]
  },
  {
   "cell_type": "markdown",
   "metadata": {},
   "source": [
    "<h4>Для проверки гипотез будем использовать t-критерий Стюдента для сравнения средних значений выручки между группами.\n",
    "t-критерий подходит для сравнения средних значений двух групп; учитывает дисперсию и размер выборки.\n",
    "Пороговое значение alpha выберем 0.05, что означает 5-процентную вероятность ошибки первого рода</h4>"
   ]
  },
  {
   "cell_type": "markdown",
   "metadata": {},
   "source": [
    "Проверка первой гипотезы"
   ]
  },
  {
   "cell_type": "code",
   "execution_count": 265,
   "metadata": {},
   "outputs": [
    {
     "name": "stdout",
     "output_type": "stream",
     "text": [
      "p_value:  1.412135637375068e-08\n",
      "Отвергаем нулевую гипотезу\n"
     ]
    }
   ],
   "source": [
    "ultra_revenue = data_merged[data_merged['tariff'] == 'ultra']['revenue']\n",
    "alpha = 0.05\n",
    "smart_revenue = data_merged[data_merged['tariff'] == 'smart']['revenue'].mean()\n",
    "results = st.ttest_1samp(\n",
    "    ultra_revenue,\n",
    "    smart_revenue)\n",
    "print('p_value: ', results.pvalue)\n",
    "if(results.pvalue < alpha):\n",
    "    print(\"Отвергаем нулевую гипотезу\")\n",
    "else:\n",
    "    print('Отвергнуть нулевую гипотезу не получилось, средние выручки тарифов статистически незначимо различаются')\n",
    "#print(smart_revenue)"
   ]
  },
  {
   "cell_type": "markdown",
   "metadata": {},
   "source": [
    "Проверка второй гипотезы"
   ]
  },
  {
   "cell_type": "code",
   "execution_count": 267,
   "metadata": {},
   "outputs": [
    {
     "name": "stdout",
     "output_type": "stream",
     "text": [
      "2       6451.0\n",
      "5      34792.0\n",
      "26      3760.0\n",
      "28     27461.0\n",
      "33      8180.0\n",
      "        ...   \n",
      "380    45411.0\n",
      "387     2550.0\n",
      "398    20476.0\n",
      "402    41928.0\n",
      "410    34706.0\n",
      "Name: revenue, Length: 82, dtype: float64\n"
     ]
    }
   ],
   "source": [
    "moscow_revenue = data_merged[data_merged['city'] == 'Москва']['revenue']\n",
    "print(moscow_revenue)"
   ]
  },
  {
   "cell_type": "code",
   "execution_count": 270,
   "metadata": {},
   "outputs": [
    {
     "name": "stdout",
     "output_type": "stream",
     "text": [
      "p-value:  0.16861049385236962\n",
      "Отвергнуть нулевую гипотезу не получилось, средние выручки пользователей из Москвы и дргуих городов статистичеки незначимо различаются\n"
     ]
    }
   ],
   "source": [
    "other_cities_revenue = data_merged[data_merged['city'] != 'Москва']['revenue'].mean()\n",
    "result = st.ttest_1samp(\n",
    "    moscow_revenue,\n",
    "    other_cities_revenue\n",
    ")\n",
    "print('p-value: ', result.pvalue)\n",
    "if(result.pvalue < alpha):\n",
    "    print(\"Отвергаем нулевую гипотезу\")\n",
    "else:\n",
    "    print(\"Отвергнуть нулевую гипотезу не получилось, средние выручки пользователей из Москвы и дргуих городов статистичеки незначимо различаются\")"
   ]
  },
  {
   "cell_type": "code",
   "execution_count": null,
   "metadata": {},
   "outputs": [],
   "source": []
  }
 ],
 "metadata": {
  "kernelspec": {
   "display_name": "Python 3 (ipykernel)",
   "language": "python",
   "name": "python3"
  },
  "language_info": {
   "codemirror_mode": {
    "name": "ipython",
    "version": 3
   },
   "file_extension": ".py",
   "mimetype": "text/x-python",
   "name": "python",
   "nbconvert_exporter": "python",
   "pygments_lexer": "ipython3",
   "version": "3.12.0"
  },
  "toc": {
   "base_numbering": 1,
   "nav_menu": {},
   "number_sections": true,
   "sideBar": true,
   "skip_h1_title": true,
   "title_cell": "Table of Contents",
   "title_sidebar": "Contents",
   "toc_cell": false,
   "toc_position": {},
   "toc_section_display": true,
   "toc_window_display": false
  }
 },
 "nbformat": 4,
 "nbformat_minor": 4
}
